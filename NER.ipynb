{
  "nbformat": 4,
  "nbformat_minor": 0,
  "metadata": {
    "colab": {
      "provenance": [],
      "gpuType": "T4"
    },
    "kernelspec": {
      "name": "python3",
      "display_name": "Python 3"
    },
    "language_info": {
      "name": "python"
    },
    "accelerator": "GPU",
    "widgets": {
      "application/vnd.jupyter.widget-state+json": {
        "182b8c23ac884e8d83ae92f4f9c31bf8": {
          "model_module": "@jupyter-widgets/controls",
          "model_name": "HBoxModel",
          "model_module_version": "1.5.0",
          "state": {
            "_dom_classes": [],
            "_model_module": "@jupyter-widgets/controls",
            "_model_module_version": "1.5.0",
            "_model_name": "HBoxModel",
            "_view_count": null,
            "_view_module": "@jupyter-widgets/controls",
            "_view_module_version": "1.5.0",
            "_view_name": "HBoxView",
            "box_style": "",
            "children": [
              "IPY_MODEL_8ffd6c5683b242c9b4b4b1a475209a1e",
              "IPY_MODEL_ac596df68ddd4d8ca3af0d4f64f1fc74",
              "IPY_MODEL_f910a5db7f164227843fdbc15d46d73e"
            ],
            "layout": "IPY_MODEL_c678b75045524c0f96261341fb6e58e0"
          }
        },
        "8ffd6c5683b242c9b4b4b1a475209a1e": {
          "model_module": "@jupyter-widgets/controls",
          "model_name": "HTMLModel",
          "model_module_version": "1.5.0",
          "state": {
            "_dom_classes": [],
            "_model_module": "@jupyter-widgets/controls",
            "_model_module_version": "1.5.0",
            "_model_name": "HTMLModel",
            "_view_count": null,
            "_view_module": "@jupyter-widgets/controls",
            "_view_module_version": "1.5.0",
            "_view_name": "HTMLView",
            "description": "",
            "description_tooltip": null,
            "layout": "IPY_MODEL_c513baad95474368b2496712178376d1",
            "placeholder": "​",
            "style": "IPY_MODEL_dab741e51dda4624849bc494aa51d2d6",
            "value": "Map: 100%"
          }
        },
        "ac596df68ddd4d8ca3af0d4f64f1fc74": {
          "model_module": "@jupyter-widgets/controls",
          "model_name": "FloatProgressModel",
          "model_module_version": "1.5.0",
          "state": {
            "_dom_classes": [],
            "_model_module": "@jupyter-widgets/controls",
            "_model_module_version": "1.5.0",
            "_model_name": "FloatProgressModel",
            "_view_count": null,
            "_view_module": "@jupyter-widgets/controls",
            "_view_module_version": "1.5.0",
            "_view_name": "ProgressView",
            "bar_style": "success",
            "description": "",
            "description_tooltip": null,
            "layout": "IPY_MODEL_df149ed402f3414dba61bf4f2b3aa3ff",
            "max": 14041,
            "min": 0,
            "orientation": "horizontal",
            "style": "IPY_MODEL_d340536295944f9197b5635445431214",
            "value": 14041
          }
        },
        "f910a5db7f164227843fdbc15d46d73e": {
          "model_module": "@jupyter-widgets/controls",
          "model_name": "HTMLModel",
          "model_module_version": "1.5.0",
          "state": {
            "_dom_classes": [],
            "_model_module": "@jupyter-widgets/controls",
            "_model_module_version": "1.5.0",
            "_model_name": "HTMLModel",
            "_view_count": null,
            "_view_module": "@jupyter-widgets/controls",
            "_view_module_version": "1.5.0",
            "_view_name": "HTMLView",
            "description": "",
            "description_tooltip": null,
            "layout": "IPY_MODEL_6f973a911f074150ac4d41358c47879e",
            "placeholder": "​",
            "style": "IPY_MODEL_f8faeae6668b49cbaaaf9167eeb4861e",
            "value": " 14041/14041 [00:03&lt;00:00, 3466.58 examples/s]"
          }
        },
        "c678b75045524c0f96261341fb6e58e0": {
          "model_module": "@jupyter-widgets/base",
          "model_name": "LayoutModel",
          "model_module_version": "1.2.0",
          "state": {
            "_model_module": "@jupyter-widgets/base",
            "_model_module_version": "1.2.0",
            "_model_name": "LayoutModel",
            "_view_count": null,
            "_view_module": "@jupyter-widgets/base",
            "_view_module_version": "1.2.0",
            "_view_name": "LayoutView",
            "align_content": null,
            "align_items": null,
            "align_self": null,
            "border": null,
            "bottom": null,
            "display": null,
            "flex": null,
            "flex_flow": null,
            "grid_area": null,
            "grid_auto_columns": null,
            "grid_auto_flow": null,
            "grid_auto_rows": null,
            "grid_column": null,
            "grid_gap": null,
            "grid_row": null,
            "grid_template_areas": null,
            "grid_template_columns": null,
            "grid_template_rows": null,
            "height": null,
            "justify_content": null,
            "justify_items": null,
            "left": null,
            "margin": null,
            "max_height": null,
            "max_width": null,
            "min_height": null,
            "min_width": null,
            "object_fit": null,
            "object_position": null,
            "order": null,
            "overflow": null,
            "overflow_x": null,
            "overflow_y": null,
            "padding": null,
            "right": null,
            "top": null,
            "visibility": null,
            "width": null
          }
        },
        "c513baad95474368b2496712178376d1": {
          "model_module": "@jupyter-widgets/base",
          "model_name": "LayoutModel",
          "model_module_version": "1.2.0",
          "state": {
            "_model_module": "@jupyter-widgets/base",
            "_model_module_version": "1.2.0",
            "_model_name": "LayoutModel",
            "_view_count": null,
            "_view_module": "@jupyter-widgets/base",
            "_view_module_version": "1.2.0",
            "_view_name": "LayoutView",
            "align_content": null,
            "align_items": null,
            "align_self": null,
            "border": null,
            "bottom": null,
            "display": null,
            "flex": null,
            "flex_flow": null,
            "grid_area": null,
            "grid_auto_columns": null,
            "grid_auto_flow": null,
            "grid_auto_rows": null,
            "grid_column": null,
            "grid_gap": null,
            "grid_row": null,
            "grid_template_areas": null,
            "grid_template_columns": null,
            "grid_template_rows": null,
            "height": null,
            "justify_content": null,
            "justify_items": null,
            "left": null,
            "margin": null,
            "max_height": null,
            "max_width": null,
            "min_height": null,
            "min_width": null,
            "object_fit": null,
            "object_position": null,
            "order": null,
            "overflow": null,
            "overflow_x": null,
            "overflow_y": null,
            "padding": null,
            "right": null,
            "top": null,
            "visibility": null,
            "width": null
          }
        },
        "dab741e51dda4624849bc494aa51d2d6": {
          "model_module": "@jupyter-widgets/controls",
          "model_name": "DescriptionStyleModel",
          "model_module_version": "1.5.0",
          "state": {
            "_model_module": "@jupyter-widgets/controls",
            "_model_module_version": "1.5.0",
            "_model_name": "DescriptionStyleModel",
            "_view_count": null,
            "_view_module": "@jupyter-widgets/base",
            "_view_module_version": "1.2.0",
            "_view_name": "StyleView",
            "description_width": ""
          }
        },
        "df149ed402f3414dba61bf4f2b3aa3ff": {
          "model_module": "@jupyter-widgets/base",
          "model_name": "LayoutModel",
          "model_module_version": "1.2.0",
          "state": {
            "_model_module": "@jupyter-widgets/base",
            "_model_module_version": "1.2.0",
            "_model_name": "LayoutModel",
            "_view_count": null,
            "_view_module": "@jupyter-widgets/base",
            "_view_module_version": "1.2.0",
            "_view_name": "LayoutView",
            "align_content": null,
            "align_items": null,
            "align_self": null,
            "border": null,
            "bottom": null,
            "display": null,
            "flex": null,
            "flex_flow": null,
            "grid_area": null,
            "grid_auto_columns": null,
            "grid_auto_flow": null,
            "grid_auto_rows": null,
            "grid_column": null,
            "grid_gap": null,
            "grid_row": null,
            "grid_template_areas": null,
            "grid_template_columns": null,
            "grid_template_rows": null,
            "height": null,
            "justify_content": null,
            "justify_items": null,
            "left": null,
            "margin": null,
            "max_height": null,
            "max_width": null,
            "min_height": null,
            "min_width": null,
            "object_fit": null,
            "object_position": null,
            "order": null,
            "overflow": null,
            "overflow_x": null,
            "overflow_y": null,
            "padding": null,
            "right": null,
            "top": null,
            "visibility": null,
            "width": null
          }
        },
        "d340536295944f9197b5635445431214": {
          "model_module": "@jupyter-widgets/controls",
          "model_name": "ProgressStyleModel",
          "model_module_version": "1.5.0",
          "state": {
            "_model_module": "@jupyter-widgets/controls",
            "_model_module_version": "1.5.0",
            "_model_name": "ProgressStyleModel",
            "_view_count": null,
            "_view_module": "@jupyter-widgets/base",
            "_view_module_version": "1.2.0",
            "_view_name": "StyleView",
            "bar_color": null,
            "description_width": ""
          }
        },
        "6f973a911f074150ac4d41358c47879e": {
          "model_module": "@jupyter-widgets/base",
          "model_name": "LayoutModel",
          "model_module_version": "1.2.0",
          "state": {
            "_model_module": "@jupyter-widgets/base",
            "_model_module_version": "1.2.0",
            "_model_name": "LayoutModel",
            "_view_count": null,
            "_view_module": "@jupyter-widgets/base",
            "_view_module_version": "1.2.0",
            "_view_name": "LayoutView",
            "align_content": null,
            "align_items": null,
            "align_self": null,
            "border": null,
            "bottom": null,
            "display": null,
            "flex": null,
            "flex_flow": null,
            "grid_area": null,
            "grid_auto_columns": null,
            "grid_auto_flow": null,
            "grid_auto_rows": null,
            "grid_column": null,
            "grid_gap": null,
            "grid_row": null,
            "grid_template_areas": null,
            "grid_template_columns": null,
            "grid_template_rows": null,
            "height": null,
            "justify_content": null,
            "justify_items": null,
            "left": null,
            "margin": null,
            "max_height": null,
            "max_width": null,
            "min_height": null,
            "min_width": null,
            "object_fit": null,
            "object_position": null,
            "order": null,
            "overflow": null,
            "overflow_x": null,
            "overflow_y": null,
            "padding": null,
            "right": null,
            "top": null,
            "visibility": null,
            "width": null
          }
        },
        "f8faeae6668b49cbaaaf9167eeb4861e": {
          "model_module": "@jupyter-widgets/controls",
          "model_name": "DescriptionStyleModel",
          "model_module_version": "1.5.0",
          "state": {
            "_model_module": "@jupyter-widgets/controls",
            "_model_module_version": "1.5.0",
            "_model_name": "DescriptionStyleModel",
            "_view_count": null,
            "_view_module": "@jupyter-widgets/base",
            "_view_module_version": "1.2.0",
            "_view_name": "StyleView",
            "description_width": ""
          }
        },
        "170963c6002a49188710a0562cda28af": {
          "model_module": "@jupyter-widgets/controls",
          "model_name": "HBoxModel",
          "model_module_version": "1.5.0",
          "state": {
            "_dom_classes": [],
            "_model_module": "@jupyter-widgets/controls",
            "_model_module_version": "1.5.0",
            "_model_name": "HBoxModel",
            "_view_count": null,
            "_view_module": "@jupyter-widgets/controls",
            "_view_module_version": "1.5.0",
            "_view_name": "HBoxView",
            "box_style": "",
            "children": [
              "IPY_MODEL_8b9b6f002ef64cbeb16becc2d56034f0",
              "IPY_MODEL_7409f95f7c874c098a550946a0de6872",
              "IPY_MODEL_8ba6f26e7585467da4a0aa583e6ef5d4"
            ],
            "layout": "IPY_MODEL_1581d04257304a4ab6a71fece82c24ee"
          }
        },
        "8b9b6f002ef64cbeb16becc2d56034f0": {
          "model_module": "@jupyter-widgets/controls",
          "model_name": "HTMLModel",
          "model_module_version": "1.5.0",
          "state": {
            "_dom_classes": [],
            "_model_module": "@jupyter-widgets/controls",
            "_model_module_version": "1.5.0",
            "_model_name": "HTMLModel",
            "_view_count": null,
            "_view_module": "@jupyter-widgets/controls",
            "_view_module_version": "1.5.0",
            "_view_name": "HTMLView",
            "description": "",
            "description_tooltip": null,
            "layout": "IPY_MODEL_bb093ca0fca4420384f2cab57472fc9b",
            "placeholder": "​",
            "style": "IPY_MODEL_c524f26139024b41923c9ffea7e80250",
            "value": "Map: 100%"
          }
        },
        "7409f95f7c874c098a550946a0de6872": {
          "model_module": "@jupyter-widgets/controls",
          "model_name": "FloatProgressModel",
          "model_module_version": "1.5.0",
          "state": {
            "_dom_classes": [],
            "_model_module": "@jupyter-widgets/controls",
            "_model_module_version": "1.5.0",
            "_model_name": "FloatProgressModel",
            "_view_count": null,
            "_view_module": "@jupyter-widgets/controls",
            "_view_module_version": "1.5.0",
            "_view_name": "ProgressView",
            "bar_style": "success",
            "description": "",
            "description_tooltip": null,
            "layout": "IPY_MODEL_8fa408afa0624898868af41bbd511b7e",
            "max": 3453,
            "min": 0,
            "orientation": "horizontal",
            "style": "IPY_MODEL_84c9d32ad5cb4fafa00f6c9447cda4a6",
            "value": 3453
          }
        },
        "8ba6f26e7585467da4a0aa583e6ef5d4": {
          "model_module": "@jupyter-widgets/controls",
          "model_name": "HTMLModel",
          "model_module_version": "1.5.0",
          "state": {
            "_dom_classes": [],
            "_model_module": "@jupyter-widgets/controls",
            "_model_module_version": "1.5.0",
            "_model_name": "HTMLModel",
            "_view_count": null,
            "_view_module": "@jupyter-widgets/controls",
            "_view_module_version": "1.5.0",
            "_view_name": "HTMLView",
            "description": "",
            "description_tooltip": null,
            "layout": "IPY_MODEL_a07f006101a341ce9d3958d5ff177ca2",
            "placeholder": "​",
            "style": "IPY_MODEL_1898cd2ff9a24371a37ca15e51466aa9",
            "value": " 3453/3453 [00:00&lt;00:00, 3799.59 examples/s]"
          }
        },
        "1581d04257304a4ab6a71fece82c24ee": {
          "model_module": "@jupyter-widgets/base",
          "model_name": "LayoutModel",
          "model_module_version": "1.2.0",
          "state": {
            "_model_module": "@jupyter-widgets/base",
            "_model_module_version": "1.2.0",
            "_model_name": "LayoutModel",
            "_view_count": null,
            "_view_module": "@jupyter-widgets/base",
            "_view_module_version": "1.2.0",
            "_view_name": "LayoutView",
            "align_content": null,
            "align_items": null,
            "align_self": null,
            "border": null,
            "bottom": null,
            "display": null,
            "flex": null,
            "flex_flow": null,
            "grid_area": null,
            "grid_auto_columns": null,
            "grid_auto_flow": null,
            "grid_auto_rows": null,
            "grid_column": null,
            "grid_gap": null,
            "grid_row": null,
            "grid_template_areas": null,
            "grid_template_columns": null,
            "grid_template_rows": null,
            "height": null,
            "justify_content": null,
            "justify_items": null,
            "left": null,
            "margin": null,
            "max_height": null,
            "max_width": null,
            "min_height": null,
            "min_width": null,
            "object_fit": null,
            "object_position": null,
            "order": null,
            "overflow": null,
            "overflow_x": null,
            "overflow_y": null,
            "padding": null,
            "right": null,
            "top": null,
            "visibility": null,
            "width": null
          }
        },
        "bb093ca0fca4420384f2cab57472fc9b": {
          "model_module": "@jupyter-widgets/base",
          "model_name": "LayoutModel",
          "model_module_version": "1.2.0",
          "state": {
            "_model_module": "@jupyter-widgets/base",
            "_model_module_version": "1.2.0",
            "_model_name": "LayoutModel",
            "_view_count": null,
            "_view_module": "@jupyter-widgets/base",
            "_view_module_version": "1.2.0",
            "_view_name": "LayoutView",
            "align_content": null,
            "align_items": null,
            "align_self": null,
            "border": null,
            "bottom": null,
            "display": null,
            "flex": null,
            "flex_flow": null,
            "grid_area": null,
            "grid_auto_columns": null,
            "grid_auto_flow": null,
            "grid_auto_rows": null,
            "grid_column": null,
            "grid_gap": null,
            "grid_row": null,
            "grid_template_areas": null,
            "grid_template_columns": null,
            "grid_template_rows": null,
            "height": null,
            "justify_content": null,
            "justify_items": null,
            "left": null,
            "margin": null,
            "max_height": null,
            "max_width": null,
            "min_height": null,
            "min_width": null,
            "object_fit": null,
            "object_position": null,
            "order": null,
            "overflow": null,
            "overflow_x": null,
            "overflow_y": null,
            "padding": null,
            "right": null,
            "top": null,
            "visibility": null,
            "width": null
          }
        },
        "c524f26139024b41923c9ffea7e80250": {
          "model_module": "@jupyter-widgets/controls",
          "model_name": "DescriptionStyleModel",
          "model_module_version": "1.5.0",
          "state": {
            "_model_module": "@jupyter-widgets/controls",
            "_model_module_version": "1.5.0",
            "_model_name": "DescriptionStyleModel",
            "_view_count": null,
            "_view_module": "@jupyter-widgets/base",
            "_view_module_version": "1.2.0",
            "_view_name": "StyleView",
            "description_width": ""
          }
        },
        "8fa408afa0624898868af41bbd511b7e": {
          "model_module": "@jupyter-widgets/base",
          "model_name": "LayoutModel",
          "model_module_version": "1.2.0",
          "state": {
            "_model_module": "@jupyter-widgets/base",
            "_model_module_version": "1.2.0",
            "_model_name": "LayoutModel",
            "_view_count": null,
            "_view_module": "@jupyter-widgets/base",
            "_view_module_version": "1.2.0",
            "_view_name": "LayoutView",
            "align_content": null,
            "align_items": null,
            "align_self": null,
            "border": null,
            "bottom": null,
            "display": null,
            "flex": null,
            "flex_flow": null,
            "grid_area": null,
            "grid_auto_columns": null,
            "grid_auto_flow": null,
            "grid_auto_rows": null,
            "grid_column": null,
            "grid_gap": null,
            "grid_row": null,
            "grid_template_areas": null,
            "grid_template_columns": null,
            "grid_template_rows": null,
            "height": null,
            "justify_content": null,
            "justify_items": null,
            "left": null,
            "margin": null,
            "max_height": null,
            "max_width": null,
            "min_height": null,
            "min_width": null,
            "object_fit": null,
            "object_position": null,
            "order": null,
            "overflow": null,
            "overflow_x": null,
            "overflow_y": null,
            "padding": null,
            "right": null,
            "top": null,
            "visibility": null,
            "width": null
          }
        },
        "84c9d32ad5cb4fafa00f6c9447cda4a6": {
          "model_module": "@jupyter-widgets/controls",
          "model_name": "ProgressStyleModel",
          "model_module_version": "1.5.0",
          "state": {
            "_model_module": "@jupyter-widgets/controls",
            "_model_module_version": "1.5.0",
            "_model_name": "ProgressStyleModel",
            "_view_count": null,
            "_view_module": "@jupyter-widgets/base",
            "_view_module_version": "1.2.0",
            "_view_name": "StyleView",
            "bar_color": null,
            "description_width": ""
          }
        },
        "a07f006101a341ce9d3958d5ff177ca2": {
          "model_module": "@jupyter-widgets/base",
          "model_name": "LayoutModel",
          "model_module_version": "1.2.0",
          "state": {
            "_model_module": "@jupyter-widgets/base",
            "_model_module_version": "1.2.0",
            "_model_name": "LayoutModel",
            "_view_count": null,
            "_view_module": "@jupyter-widgets/base",
            "_view_module_version": "1.2.0",
            "_view_name": "LayoutView",
            "align_content": null,
            "align_items": null,
            "align_self": null,
            "border": null,
            "bottom": null,
            "display": null,
            "flex": null,
            "flex_flow": null,
            "grid_area": null,
            "grid_auto_columns": null,
            "grid_auto_flow": null,
            "grid_auto_rows": null,
            "grid_column": null,
            "grid_gap": null,
            "grid_row": null,
            "grid_template_areas": null,
            "grid_template_columns": null,
            "grid_template_rows": null,
            "height": null,
            "justify_content": null,
            "justify_items": null,
            "left": null,
            "margin": null,
            "max_height": null,
            "max_width": null,
            "min_height": null,
            "min_width": null,
            "object_fit": null,
            "object_position": null,
            "order": null,
            "overflow": null,
            "overflow_x": null,
            "overflow_y": null,
            "padding": null,
            "right": null,
            "top": null,
            "visibility": null,
            "width": null
          }
        },
        "1898cd2ff9a24371a37ca15e51466aa9": {
          "model_module": "@jupyter-widgets/controls",
          "model_name": "DescriptionStyleModel",
          "model_module_version": "1.5.0",
          "state": {
            "_model_module": "@jupyter-widgets/controls",
            "_model_module_version": "1.5.0",
            "_model_name": "DescriptionStyleModel",
            "_view_count": null,
            "_view_module": "@jupyter-widgets/base",
            "_view_module_version": "1.2.0",
            "_view_name": "StyleView",
            "description_width": ""
          }
        }
      }
    }
  },
  "cells": [
    {
      "cell_type": "code",
      "execution_count": 1,
      "metadata": {
        "id": "LyK9V2XXJNv8"
      },
      "outputs": [],
      "source": [
        "model_name = \"cointegrated/rubert-tiny\"\n",
        "batch_size = 16"
      ]
    },
    {
      "cell_type": "code",
      "source": [
        "from datasets import load_dataset\n",
        "train = load_dataset('eriktks/conll2003')['train']\n",
        "test = load_dataset('eriktks/conll2003')['test']\n",
        "ner = {0: 'O', 1: 'B-PER', 2: 'I-PER', 3: 'B-ORG', 4: 'I-ORG', 5: 'B-LOC', 6: 'I-LOC', 7: 'B-MISC', 8: 'I-MISC'}"
      ],
      "metadata": {
        "colab": {
          "base_uri": "https://localhost:8080/"
        },
        "id": "1ZUZ6xLxLwnT",
        "outputId": "45468238-96e8-439f-c29e-e81365cfac0a"
      },
      "execution_count": 2,
      "outputs": [
        {
          "output_type": "stream",
          "name": "stderr",
          "text": [
            "/usr/local/lib/python3.10/dist-packages/huggingface_hub/utils/_token.py:89: UserWarning: \n",
            "The secret `HF_TOKEN` does not exist in your Colab secrets.\n",
            "To authenticate with the Hugging Face Hub, create a token in your settings tab (https://huggingface.co/settings/tokens), set it as secret in your Google Colab and restart your session.\n",
            "You will be able to reuse this secret in all of your notebooks.\n",
            "Please note that authentication is recommended but still optional to access public models or datasets.\n",
            "  warnings.warn(\n"
          ]
        }
      ]
    },
    {
      "cell_type": "code",
      "source": [
        "import pandas as pd\n",
        "train_df = pd.DataFrame()\n",
        "train_df['id'] = train['id']\n",
        "train_df['tokens'] = train['tokens']\n",
        "train_df['ner_tags'] = train['ner_tags']\n",
        "test_df = pd.DataFrame()\n",
        "test_df['id'] = test['id']\n",
        "test_df['tokens'] = test['tokens']\n",
        "test_df['ner_tags'] = test['ner_tags']"
      ],
      "metadata": {
        "id": "A_dlp-5QNLyF"
      },
      "execution_count": 3,
      "outputs": []
    },
    {
      "cell_type": "code",
      "source": [
        "def upd(s):\n",
        "  for i in range(len(s)):\n",
        "    s[i] = ner[s[i]]\n",
        "  return s"
      ],
      "metadata": {
        "id": "DX7l3oKANgM-"
      },
      "execution_count": 4,
      "outputs": []
    },
    {
      "cell_type": "code",
      "source": [
        "train_df.ner_tags = train_df.ner_tags.apply(upd)\n",
        "test_df.ner_tags = test_df.ner_tags.apply(upd)"
      ],
      "metadata": {
        "id": "rsfP6n1pMn3f"
      },
      "execution_count": 5,
      "outputs": []
    },
    {
      "cell_type": "code",
      "source": [
        "from datasets import Dataset, DatasetDict\n",
        "ner_df = DatasetDict({\n",
        "    'train': Dataset.from_pandas(pd.DataFrame(train_df)),\n",
        "    'test': Dataset.from_pandas(pd.DataFrame(test_df))\n",
        "})\n",
        "ner_df"
      ],
      "metadata": {
        "colab": {
          "base_uri": "https://localhost:8080/"
        },
        "id": "7gOYJr0UMPi6",
        "outputId": "7d2f302b-d9f9-4185-da40-5218eca58abf"
      },
      "execution_count": 6,
      "outputs": [
        {
          "output_type": "execute_result",
          "data": {
            "text/plain": [
              "DatasetDict({\n",
              "    train: Dataset({\n",
              "        features: ['id', 'tokens', 'ner_tags'],\n",
              "        num_rows: 14041\n",
              "    })\n",
              "    test: Dataset({\n",
              "        features: ['id', 'tokens', 'ner_tags'],\n",
              "        num_rows: 3453\n",
              "    })\n",
              "})"
            ]
          },
          "metadata": {},
          "execution_count": 6
        }
      ]
    },
    {
      "cell_type": "code",
      "source": [
        "from transformers import AutoTokenizer\n",
        "\n",
        "tokenizer = AutoTokenizer.from_pretrained(model_name)"
      ],
      "metadata": {
        "colab": {
          "base_uri": "https://localhost:8080/"
        },
        "id": "gq9BZu9-OXYr",
        "outputId": "57d07dfc-5803-4ae0-e6f6-21190ced22b6"
      },
      "execution_count": 7,
      "outputs": [
        {
          "output_type": "stream",
          "name": "stderr",
          "text": [
            "/usr/local/lib/python3.10/dist-packages/transformers/tokenization_utils_base.py:1601: FutureWarning: `clean_up_tokenization_spaces` was not set. It will be set to `True` by default. This behavior will be depracted in transformers v4.45, and will be then set to `False` by default. For more details check this issue: https://github.com/huggingface/transformers/issues/31884\n",
            "  warnings.warn(\n"
          ]
        }
      ]
    },
    {
      "cell_type": "code",
      "source": [
        "labels_ner = list(ner.values())\n",
        "labels_ner"
      ],
      "metadata": {
        "colab": {
          "base_uri": "https://localhost:8080/"
        },
        "id": "sQfecgNnPcYU",
        "outputId": "1ec2e3fd-3533-4a7e-f3fc-642f0399fdd0"
      },
      "execution_count": 8,
      "outputs": [
        {
          "output_type": "execute_result",
          "data": {
            "text/plain": [
              "['O', 'B-PER', 'I-PER', 'B-ORG', 'I-ORG', 'B-LOC', 'I-LOC', 'B-MISC', 'I-MISC']"
            ]
          },
          "metadata": {},
          "execution_count": 8
        }
      ]
    },
    {
      "cell_type": "code",
      "source": [
        "def tokenize(input_token, label_all_tokens=True):\n",
        "    tokenized = tokenizer(input_token[\"tokens\"], truncation=True, is_split_into_words=True)\n",
        "    labels = []\n",
        "    for i, label in enumerate(input_token['ner_tags']):\n",
        "        word_ids = tokenized.word_ids(batch_index=i)\n",
        "        previous_word_idx = None\n",
        "        label_ids = []\n",
        "        for word_idx in word_ids:\n",
        "            if word_idx is None:\n",
        "                label_ids.append(-100)\n",
        "            elif word_idx != previous_word_idx:\n",
        "                label_ids.append(label[word_idx])\n",
        "            else:\n",
        "                label_ids.append(label[word_idx] if label_all_tokens else -100)\n",
        "            previous_word_idx = word_idx\n",
        "        label_ids = [labels_ner.index(idx) if isinstance(idx, str) else idx for idx in label_ids]\n",
        "\n",
        "        labels.append(label_ids)\n",
        "\n",
        "    tokenized[\"labels\"] = labels\n",
        "    return tokenized"
      ],
      "metadata": {
        "id": "70zyVSOmO2jJ"
      },
      "execution_count": 9,
      "outputs": []
    },
    {
      "cell_type": "code",
      "source": [
        "tokenized_datasets = ner_df.map(tokenize, batched=True)"
      ],
      "metadata": {
        "colab": {
          "base_uri": "https://localhost:8080/",
          "height": 81,
          "referenced_widgets": [
            "182b8c23ac884e8d83ae92f4f9c31bf8",
            "8ffd6c5683b242c9b4b4b1a475209a1e",
            "ac596df68ddd4d8ca3af0d4f64f1fc74",
            "f910a5db7f164227843fdbc15d46d73e",
            "c678b75045524c0f96261341fb6e58e0",
            "c513baad95474368b2496712178376d1",
            "dab741e51dda4624849bc494aa51d2d6",
            "df149ed402f3414dba61bf4f2b3aa3ff",
            "d340536295944f9197b5635445431214",
            "6f973a911f074150ac4d41358c47879e",
            "f8faeae6668b49cbaaaf9167eeb4861e",
            "170963c6002a49188710a0562cda28af",
            "8b9b6f002ef64cbeb16becc2d56034f0",
            "7409f95f7c874c098a550946a0de6872",
            "8ba6f26e7585467da4a0aa583e6ef5d4",
            "1581d04257304a4ab6a71fece82c24ee",
            "bb093ca0fca4420384f2cab57472fc9b",
            "c524f26139024b41923c9ffea7e80250",
            "8fa408afa0624898868af41bbd511b7e",
            "84c9d32ad5cb4fafa00f6c9447cda4a6",
            "a07f006101a341ce9d3958d5ff177ca2",
            "1898cd2ff9a24371a37ca15e51466aa9"
          ]
        },
        "id": "PYA2V_68PrfL",
        "outputId": "09921a9c-edb4-4bf7-8d94-8044b86103ff"
      },
      "execution_count": 10,
      "outputs": [
        {
          "output_type": "display_data",
          "data": {
            "text/plain": [
              "Map:   0%|          | 0/14041 [00:00<?, ? examples/s]"
            ],
            "application/vnd.jupyter.widget-view+json": {
              "version_major": 2,
              "version_minor": 0,
              "model_id": "182b8c23ac884e8d83ae92f4f9c31bf8"
            }
          },
          "metadata": {}
        },
        {
          "output_type": "display_data",
          "data": {
            "text/plain": [
              "Map:   0%|          | 0/3453 [00:00<?, ? examples/s]"
            ],
            "application/vnd.jupyter.widget-view+json": {
              "version_major": 2,
              "version_minor": 0,
              "model_id": "170963c6002a49188710a0562cda28af"
            }
          },
          "metadata": {}
        }
      ]
    },
    {
      "cell_type": "code",
      "source": [
        "from transformers import AutoModelForTokenClassification, TrainingArguments, Trainer\n",
        "\n",
        "model = AutoModelForTokenClassification.from_pretrained(model_name, num_labels=len(labels_ner))\n",
        "model.config.id2label = ner\n",
        "model.config.label2id = {v: k for k, v in model.config.id2label.items()}"
      ],
      "metadata": {
        "colab": {
          "base_uri": "https://localhost:8080/"
        },
        "id": "0sWqGlMaPwi2",
        "outputId": "d2633a38-770a-4815-ca86-0f6e87bddfca"
      },
      "execution_count": 11,
      "outputs": [
        {
          "output_type": "stream",
          "name": "stderr",
          "text": [
            "Some weights of BertForTokenClassification were not initialized from the model checkpoint at cointegrated/rubert-tiny and are newly initialized: ['classifier.bias', 'classifier.weight']\n",
            "You should probably TRAIN this model on a down-stream task to be able to use it for predictions and inference.\n"
          ]
        }
      ]
    },
    {
      "cell_type": "code",
      "source": [
        "args = TrainingArguments(\n",
        "    \"ner\",\n",
        "    evaluation_strategy = \"epoch\",\n",
        "    learning_rate=2e-4,\n",
        "    per_device_train_batch_size=batch_size,\n",
        "    per_device_eval_batch_size=batch_size,\n",
        "    num_train_epochs=25,\n",
        "    weight_decay=0.01,\n",
        "    save_strategy='no',\n",
        "    report_to='none',\n",
        ")"
      ],
      "metadata": {
        "colab": {
          "base_uri": "https://localhost:8080/"
        },
        "id": "8KpMHp19Rru7",
        "outputId": "d391b0f4-0b12-4231-ac81-d4aefe5299b1"
      },
      "execution_count": 12,
      "outputs": [
        {
          "output_type": "stream",
          "name": "stderr",
          "text": [
            "/usr/local/lib/python3.10/dist-packages/transformers/training_args.py:1525: FutureWarning: `evaluation_strategy` is deprecated and will be removed in version 4.46 of 🤗 Transformers. Use `eval_strategy` instead\n",
            "  warnings.warn(\n"
          ]
        }
      ]
    },
    {
      "cell_type": "code",
      "source": [
        "from transformers import DataCollatorForTokenClassification\n",
        "from datasets import load_metric\n",
        "data_collator = DataCollatorForTokenClassification(tokenizer)\n",
        "metric = load_metric(\"seqeval\")"
      ],
      "metadata": {
        "colab": {
          "base_uri": "https://localhost:8080/"
        },
        "id": "W_MoxHGrR2zt",
        "outputId": "c983a88b-2462-4a34-ded2-7eb4d187ef0e"
      },
      "execution_count": 13,
      "outputs": [
        {
          "output_type": "stream",
          "name": "stderr",
          "text": [
            "<ipython-input-13-0216f1b559ba>:4: FutureWarning: load_metric is deprecated and will be removed in the next major version of datasets. Use 'evaluate.load' instead, from the new library 🤗 Evaluate: https://huggingface.co/docs/evaluate\n",
            "  metric = load_metric(\"seqeval\")\n"
          ]
        }
      ]
    },
    {
      "cell_type": "code",
      "source": [
        "import numpy as np\n",
        "\n",
        "def compute_metrics(p):\n",
        "    predictions, labels = p\n",
        "    predictions = np.argmax(predictions, axis=2)\n",
        "    true_predictions = [\n",
        "        [labels_ner[p] for (p, l) in zip(prediction, label) if l != -100]\n",
        "        for prediction, label in zip(predictions, labels)\n",
        "    ]\n",
        "    true_labels = [\n",
        "        [labels_ner[l] for (p, l) in zip(prediction, label) if l != -100]\n",
        "        for prediction, label in zip(predictions, labels)\n",
        "    ]\n",
        "\n",
        "    results = metric.compute(predictions=true_predictions, references=true_labels, zero_division=0)\n",
        "    return {\n",
        "        \"precision\": results[\"overall_precision\"],\n",
        "        \"recall\": results[\"overall_recall\"],\n",
        "        \"f1\": results[\"overall_f1\"],\n",
        "        \"accuracy\": results[\"overall_accuracy\"],\n",
        "    }"
      ],
      "metadata": {
        "id": "P7jzjqd0R49V"
      },
      "execution_count": 14,
      "outputs": []
    },
    {
      "cell_type": "code",
      "source": [
        "trainer = Trainer(\n",
        "    model,\n",
        "    args,\n",
        "    train_dataset=tokenized_datasets[\"train\"],\n",
        "    eval_dataset=tokenized_datasets[\"test\"],\n",
        "    data_collator=data_collator,\n",
        "    tokenizer=tokenizer,\n",
        "    compute_metrics=compute_metrics\n",
        ")"
      ],
      "metadata": {
        "id": "9ycAHQw0SgO5"
      },
      "execution_count": 15,
      "outputs": []
    },
    {
      "cell_type": "code",
      "source": [
        "trainer.evaluate()\n"
      ],
      "metadata": {
        "colab": {
          "base_uri": "https://localhost:8080/",
          "height": 198
        },
        "id": "GEN_RcDiShnY",
        "outputId": "f0f443d8-d3d3-43ff-8dbd-ce25d0fa2512"
      },
      "execution_count": 16,
      "outputs": [
        {
          "output_type": "display_data",
          "data": {
            "text/plain": [
              "<IPython.core.display.HTML object>"
            ],
            "text/html": [
              "\n",
              "    <div>\n",
              "      \n",
              "      <progress value='216' max='216' style='width:300px; height:20px; vertical-align: middle;'></progress>\n",
              "      [216/216 00:01]\n",
              "    </div>\n",
              "    "
            ]
          },
          "metadata": {}
        },
        {
          "output_type": "execute_result",
          "data": {
            "text/plain": [
              "{'eval_loss': 2.2662930488586426,\n",
              " 'eval_model_preparation_time': 0.0011,\n",
              " 'eval_precision': 0.02148415683062144,\n",
              " 'eval_recall': 0.10212389380530973,\n",
              " 'eval_f1': 0.03550004614390747,\n",
              " 'eval_accuracy': 0.06952624252344311,\n",
              " 'eval_runtime': 4.5634,\n",
              " 'eval_samples_per_second': 756.672,\n",
              " 'eval_steps_per_second': 47.333}"
            ]
          },
          "metadata": {},
          "execution_count": 16
        }
      ]
    },
    {
      "cell_type": "code",
      "source": [
        "trainer.train()"
      ],
      "metadata": {
        "colab": {
          "base_uri": "https://localhost:8080/",
          "height": 915
        },
        "id": "D8tX7eutSyVn",
        "outputId": "7ae942aa-b493-480c-fdcf-47059159128b"
      },
      "execution_count": 18,
      "outputs": [
        {
          "output_type": "display_data",
          "data": {
            "text/plain": [
              "<IPython.core.display.HTML object>"
            ],
            "text/html": [
              "\n",
              "    <div>\n",
              "      \n",
              "      <progress value='21950' max='21950' style='width:300px; height:20px; vertical-align: middle;'></progress>\n",
              "      [21950/21950 07:42, Epoch 25/25]\n",
              "    </div>\n",
              "    <table border=\"1\" class=\"dataframe\">\n",
              "  <thead>\n",
              " <tr style=\"text-align: left;\">\n",
              "      <th>Epoch</th>\n",
              "      <th>Training Loss</th>\n",
              "      <th>Validation Loss</th>\n",
              "      <th>Model Preparation Time</th>\n",
              "      <th>Precision</th>\n",
              "      <th>Recall</th>\n",
              "      <th>F1</th>\n",
              "      <th>Accuracy</th>\n",
              "    </tr>\n",
              "  </thead>\n",
              "  <tbody>\n",
              "    <tr>\n",
              "      <td>1</td>\n",
              "      <td>0.283400</td>\n",
              "      <td>0.201249</td>\n",
              "      <td>0.001100</td>\n",
              "      <td>0.787269</td>\n",
              "      <td>0.806637</td>\n",
              "      <td>0.796835</td>\n",
              "      <td>0.945327</td>\n",
              "    </tr>\n",
              "    <tr>\n",
              "      <td>2</td>\n",
              "      <td>0.080100</td>\n",
              "      <td>0.205758</td>\n",
              "      <td>0.001100</td>\n",
              "      <td>0.807482</td>\n",
              "      <td>0.825133</td>\n",
              "      <td>0.816212</td>\n",
              "      <td>0.950850</td>\n",
              "    </tr>\n",
              "    <tr>\n",
              "      <td>3</td>\n",
              "      <td>0.045700</td>\n",
              "      <td>0.240675</td>\n",
              "      <td>0.001100</td>\n",
              "      <td>0.806039</td>\n",
              "      <td>0.824513</td>\n",
              "      <td>0.815171</td>\n",
              "      <td>0.949504</td>\n",
              "    </tr>\n",
              "    <tr>\n",
              "      <td>4</td>\n",
              "      <td>0.031800</td>\n",
              "      <td>0.275601</td>\n",
              "      <td>0.001100</td>\n",
              "      <td>0.791720</td>\n",
              "      <td>0.822478</td>\n",
              "      <td>0.806806</td>\n",
              "      <td>0.946674</td>\n",
              "    </tr>\n",
              "    <tr>\n",
              "      <td>5</td>\n",
              "      <td>0.019600</td>\n",
              "      <td>0.308342</td>\n",
              "      <td>0.001100</td>\n",
              "      <td>0.792610</td>\n",
              "      <td>0.823894</td>\n",
              "      <td>0.807949</td>\n",
              "      <td>0.946230</td>\n",
              "    </tr>\n",
              "    <tr>\n",
              "      <td>6</td>\n",
              "      <td>0.014400</td>\n",
              "      <td>0.297635</td>\n",
              "      <td>0.001100</td>\n",
              "      <td>0.803120</td>\n",
              "      <td>0.820177</td>\n",
              "      <td>0.811559</td>\n",
              "      <td>0.949075</td>\n",
              "    </tr>\n",
              "    <tr>\n",
              "      <td>7</td>\n",
              "      <td>0.012400</td>\n",
              "      <td>0.307356</td>\n",
              "      <td>0.001100</td>\n",
              "      <td>0.800425</td>\n",
              "      <td>0.832655</td>\n",
              "      <td>0.816222</td>\n",
              "      <td>0.949963</td>\n",
              "    </tr>\n",
              "    <tr>\n",
              "      <td>8</td>\n",
              "      <td>0.008100</td>\n",
              "      <td>0.325962</td>\n",
              "      <td>0.001100</td>\n",
              "      <td>0.800357</td>\n",
              "      <td>0.833363</td>\n",
              "      <td>0.816526</td>\n",
              "      <td>0.949657</td>\n",
              "    </tr>\n",
              "    <tr>\n",
              "      <td>9</td>\n",
              "      <td>0.007000</td>\n",
              "      <td>0.349816</td>\n",
              "      <td>0.001100</td>\n",
              "      <td>0.797572</td>\n",
              "      <td>0.831239</td>\n",
              "      <td>0.814057</td>\n",
              "      <td>0.948310</td>\n",
              "    </tr>\n",
              "    <tr>\n",
              "      <td>10</td>\n",
              "      <td>0.006200</td>\n",
              "      <td>0.366001</td>\n",
              "      <td>0.001100</td>\n",
              "      <td>0.802287</td>\n",
              "      <td>0.832035</td>\n",
              "      <td>0.816890</td>\n",
              "      <td>0.949244</td>\n",
              "    </tr>\n",
              "    <tr>\n",
              "      <td>11</td>\n",
              "      <td>0.005000</td>\n",
              "      <td>0.361614</td>\n",
              "      <td>0.001100</td>\n",
              "      <td>0.795905</td>\n",
              "      <td>0.839292</td>\n",
              "      <td>0.817023</td>\n",
              "      <td>0.949458</td>\n",
              "    </tr>\n",
              "    <tr>\n",
              "      <td>12</td>\n",
              "      <td>0.003900</td>\n",
              "      <td>0.387815</td>\n",
              "      <td>0.001100</td>\n",
              "      <td>0.795546</td>\n",
              "      <td>0.821947</td>\n",
              "      <td>0.808531</td>\n",
              "      <td>0.947071</td>\n",
              "    </tr>\n",
              "    <tr>\n",
              "      <td>13</td>\n",
              "      <td>0.003400</td>\n",
              "      <td>0.404360</td>\n",
              "      <td>0.001100</td>\n",
              "      <td>0.794135</td>\n",
              "      <td>0.829204</td>\n",
              "      <td>0.811291</td>\n",
              "      <td>0.947744</td>\n",
              "    </tr>\n",
              "    <tr>\n",
              "      <td>14</td>\n",
              "      <td>0.003100</td>\n",
              "      <td>0.394321</td>\n",
              "      <td>0.001100</td>\n",
              "      <td>0.802348</td>\n",
              "      <td>0.822655</td>\n",
              "      <td>0.812374</td>\n",
              "      <td>0.948433</td>\n",
              "    </tr>\n",
              "    <tr>\n",
              "      <td>15</td>\n",
              "      <td>0.002300</td>\n",
              "      <td>0.404955</td>\n",
              "      <td>0.001100</td>\n",
              "      <td>0.807184</td>\n",
              "      <td>0.827257</td>\n",
              "      <td>0.817097</td>\n",
              "      <td>0.949106</td>\n",
              "    </tr>\n",
              "    <tr>\n",
              "      <td>16</td>\n",
              "      <td>0.002100</td>\n",
              "      <td>0.410596</td>\n",
              "      <td>0.001100</td>\n",
              "      <td>0.797919</td>\n",
              "      <td>0.834779</td>\n",
              "      <td>0.815933</td>\n",
              "      <td>0.947561</td>\n",
              "    </tr>\n",
              "    <tr>\n",
              "      <td>17</td>\n",
              "      <td>0.001800</td>\n",
              "      <td>0.404579</td>\n",
              "      <td>0.001100</td>\n",
              "      <td>0.813195</td>\n",
              "      <td>0.834425</td>\n",
              "      <td>0.823673</td>\n",
              "      <td>0.950268</td>\n",
              "    </tr>\n",
              "    <tr>\n",
              "      <td>18</td>\n",
              "      <td>0.001200</td>\n",
              "      <td>0.418823</td>\n",
              "      <td>0.001100</td>\n",
              "      <td>0.800309</td>\n",
              "      <td>0.824602</td>\n",
              "      <td>0.812274</td>\n",
              "      <td>0.948433</td>\n",
              "    </tr>\n",
              "    <tr>\n",
              "      <td>19</td>\n",
              "      <td>0.001000</td>\n",
              "      <td>0.416182</td>\n",
              "      <td>0.001100</td>\n",
              "      <td>0.811602</td>\n",
              "      <td>0.829558</td>\n",
              "      <td>0.820481</td>\n",
              "      <td>0.950406</td>\n",
              "    </tr>\n",
              "    <tr>\n",
              "      <td>20</td>\n",
              "      <td>0.000800</td>\n",
              "      <td>0.419071</td>\n",
              "      <td>0.001100</td>\n",
              "      <td>0.812354</td>\n",
              "      <td>0.828673</td>\n",
              "      <td>0.820432</td>\n",
              "      <td>0.950942</td>\n",
              "    </tr>\n",
              "    <tr>\n",
              "      <td>21</td>\n",
              "      <td>0.000600</td>\n",
              "      <td>0.423141</td>\n",
              "      <td>0.001100</td>\n",
              "      <td>0.810331</td>\n",
              "      <td>0.832920</td>\n",
              "      <td>0.821471</td>\n",
              "      <td>0.951217</td>\n",
              "    </tr>\n",
              "    <tr>\n",
              "      <td>22</td>\n",
              "      <td>0.000800</td>\n",
              "      <td>0.420035</td>\n",
              "      <td>0.001100</td>\n",
              "      <td>0.813516</td>\n",
              "      <td>0.837345</td>\n",
              "      <td>0.825258</td>\n",
              "      <td>0.950743</td>\n",
              "    </tr>\n",
              "    <tr>\n",
              "      <td>23</td>\n",
              "      <td>0.000400</td>\n",
              "      <td>0.418241</td>\n",
              "      <td>0.001100</td>\n",
              "      <td>0.818569</td>\n",
              "      <td>0.834071</td>\n",
              "      <td>0.826247</td>\n",
              "      <td>0.951431</td>\n",
              "    </tr>\n",
              "    <tr>\n",
              "      <td>24</td>\n",
              "      <td>0.000400</td>\n",
              "      <td>0.414362</td>\n",
              "      <td>0.001100</td>\n",
              "      <td>0.818883</td>\n",
              "      <td>0.836637</td>\n",
              "      <td>0.827665</td>\n",
              "      <td>0.951890</td>\n",
              "    </tr>\n",
              "    <tr>\n",
              "      <td>25</td>\n",
              "      <td>0.000400</td>\n",
              "      <td>0.415804</td>\n",
              "      <td>0.001100</td>\n",
              "      <td>0.820736</td>\n",
              "      <td>0.835044</td>\n",
              "      <td>0.827828</td>\n",
              "      <td>0.952104</td>\n",
              "    </tr>\n",
              "  </tbody>\n",
              "</table><p>"
            ]
          },
          "metadata": {}
        },
        {
          "output_type": "display_data",
          "data": {
            "text/plain": [
              "<IPython.core.display.HTML object>"
            ],
            "text/html": [
              "\n",
              "    <div>\n",
              "      \n",
              "      <progress value='432' max='216' style='width:300px; height:20px; vertical-align: middle;'></progress>\n",
              "      [216/216 00:21]\n",
              "    </div>\n",
              "    "
            ]
          },
          "metadata": {}
        },
        {
          "output_type": "execute_result",
          "data": {
            "text/plain": [
              "TrainOutput(global_step=21950, training_loss=0.018819857269593416, metrics={'train_runtime': 462.7487, 'train_samples_per_second': 758.565, 'train_steps_per_second': 47.434, 'total_flos': 249218802771012.0, 'train_loss': 0.018819857269593416, 'epoch': 25.0})"
            ]
          },
          "metadata": {},
          "execution_count": 18
        }
      ]
    },
    {
      "cell_type": "code",
      "source": [
        "trainer.evaluate()"
      ],
      "metadata": {
        "colab": {
          "base_uri": "https://localhost:8080/",
          "height": 216
        },
        "id": "qryCMfyZSzr9",
        "outputId": "1b7b10f3-87bf-4dd3-e309-ab24a12f2a1e"
      },
      "execution_count": 19,
      "outputs": [
        {
          "output_type": "display_data",
          "data": {
            "text/plain": [
              "<IPython.core.display.HTML object>"
            ],
            "text/html": [
              "\n",
              "    <div>\n",
              "      \n",
              "      <progress value='216' max='216' style='width:300px; height:20px; vertical-align: middle;'></progress>\n",
              "      [216/216 00:01]\n",
              "    </div>\n",
              "    "
            ]
          },
          "metadata": {}
        },
        {
          "output_type": "execute_result",
          "data": {
            "text/plain": [
              "{'eval_loss': 0.4158036410808563,\n",
              " 'eval_model_preparation_time': 0.0011,\n",
              " 'eval_precision': 0.8207358441332522,\n",
              " 'eval_recall': 0.8350442477876107,\n",
              " 'eval_f1': 0.8278282230117998,\n",
              " 'eval_accuracy': 0.9521041440394058,\n",
              " 'eval_runtime': 2.8819,\n",
              " 'eval_samples_per_second': 1198.162,\n",
              " 'eval_steps_per_second': 74.95,\n",
              " 'epoch': 25.0}"
            ]
          },
          "metadata": {},
          "execution_count": 19
        }
      ]
    },
    {
      "cell_type": "code",
      "source": [
        "from transformers import pipeline\n",
        "\n",
        "pipe = pipeline(model=model, tokenizer=tokenizer, task='ner', aggregation_strategy='average')"
      ],
      "metadata": {
        "colab": {
          "base_uri": "https://localhost:8080/"
        },
        "id": "1wbGi137liko",
        "outputId": "f2762f2c-76b4-4a5b-d8c5-df567faf3a3b"
      },
      "execution_count": 24,
      "outputs": [
        {
          "output_type": "stream",
          "name": "stderr",
          "text": [
            "Hardware accelerator e.g. GPU is available in the environment, but no `device` argument is passed to the `Pipeline` object. Model will be on CPU.\n"
          ]
        }
      ]
    },
    {
      "cell_type": "code",
      "source": [
        "print(' '.join(ner_df['train']['tokens'][4]))\n",
        "pipe(' '.join(ner_df['train']['tokens'][4]))"
      ],
      "metadata": {
        "colab": {
          "base_uri": "https://localhost:8080/"
        },
        "id": "rSv-mqdgl6lf",
        "outputId": "77ff9a86-b2b5-4544-d36b-932317a1c990"
      },
      "execution_count": 34,
      "outputs": [
        {
          "output_type": "stream",
          "name": "stdout",
          "text": [
            "Germany 's representative to the European Union 's veterinary committee Werner Zwingmann said on Wednesday consumers should buy sheepmeat from countries other than Britain until the scientific advice was clearer .\n"
          ]
        },
        {
          "output_type": "execute_result",
          "data": {
            "text/plain": [
              "[{'entity_group': 'LOC',\n",
              "  'score': 0.99998736,\n",
              "  'word': 'Germany',\n",
              "  'start': 0,\n",
              "  'end': 7},\n",
              " {'entity_group': 'ORG',\n",
              "  'score': 0.9999885,\n",
              "  'word': 'European Union',\n",
              "  'start': 33,\n",
              "  'end': 47},\n",
              " {'entity_group': 'PER',\n",
              "  'score': 0.99999017,\n",
              "  'word': 'Werner Zwingmann',\n",
              "  'start': 72,\n",
              "  'end': 88},\n",
              " {'entity_group': 'LOC',\n",
              "  'score': 0.9999924,\n",
              "  'word': 'Britain',\n",
              "  'start': 164,\n",
              "  'end': 171}]"
            ]
          },
          "metadata": {},
          "execution_count": 34
        }
      ]
    },
    {
      "cell_type": "code",
      "source": [],
      "metadata": {
        "id": "zHbl3Dqbl8DO"
      },
      "execution_count": null,
      "outputs": []
    }
  ]
}